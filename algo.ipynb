{
 "cells": [
  {
   "cell_type": "markdown",
   "id": "e0b6f958",
   "metadata": {},
   "source": [
    "B. Застёжка-молния"
   ]
  },
  {
   "cell_type": "code",
   "execution_count": 79,
   "id": "18d52c01",
   "metadata": {},
   "outputs": [
    {
     "name": "stdout",
     "output_type": "stream",
     "text": [
      "3\n",
      "1 2 3\n",
      "4 5 6\n"
     ]
    }
   ],
   "source": [
    "a = input()\n",
    "b = list(map(int, input().strip().split()))\n",
    "c = list(map(int, input().strip().split()))"
   ]
  },
  {
   "cell_type": "code",
   "execution_count": 13,
   "id": "dad0c60a",
   "metadata": {},
   "outputs": [
    {
     "data": {
      "text/plain": [
       "[1, 2, 3, 4, 5]"
      ]
     },
     "execution_count": 13,
     "metadata": {},
     "output_type": "execute_result"
    }
   ],
   "source": [
    "b"
   ]
  },
  {
   "cell_type": "code",
   "execution_count": 14,
   "id": "532277fa",
   "metadata": {},
   "outputs": [
    {
     "data": {
      "text/plain": [
       "[6, 7, 8, 9, 10]"
      ]
     },
     "execution_count": 14,
     "metadata": {},
     "output_type": "execute_result"
    }
   ],
   "source": [
    "c"
   ]
  },
  {
   "cell_type": "code",
   "execution_count": 80,
   "id": "96ece706",
   "metadata": {},
   "outputs": [],
   "source": [
    "res = []\n",
    "for t in zip(b, c):\n",
    "    for x in t:\n",
    "        res.append(x)"
   ]
  },
  {
   "cell_type": "code",
   "execution_count": 88,
   "id": "2e4f2dc6",
   "metadata": {},
   "outputs": [
    {
     "name": "stdout",
     "output_type": "stream",
     "text": [
      "1 4 2 5 3 6\n"
     ]
    }
   ],
   "source": [
    "print(\" \".join(map(str, res)))"
   ]
  },
  {
   "cell_type": "markdown",
   "id": "72c716ee",
   "metadata": {},
   "source": [
    "C. Скользящее среднее"
   ]
  },
  {
   "cell_type": "code",
   "execution_count": 101,
   "id": "96a1b4ca",
   "metadata": {
    "scrolled": true
   },
   "outputs": [
    {
     "name": "stdout",
     "output_type": "stream",
     "text": [
      "7\n",
      "1 2 3 4 5 6 7\n",
      "4\n"
     ]
    }
   ],
   "source": [
    "n = input()\n",
    "q = list(map(int, input().strip().split()))\n",
    "k = int(input())"
   ]
  },
  {
   "cell_type": "code",
   "execution_count": 102,
   "id": "2ae61a8b",
   "metadata": {},
   "outputs": [],
   "source": [
    "def move_aver(q, k):\n",
    "    result = []\n",
    "    current_sum = sum(q[0:k])\n",
    "    result.append(current_sum/k)\n",
    "    for i in range(0, len(q)-k):\n",
    "        current_sum -= q[i]\n",
    "        current_sum += q[k+i]\n",
    "        current_avg = current_sum/k\n",
    "        result.append(current_avg)\n",
    "    return result"
   ]
  },
  {
   "cell_type": "code",
   "execution_count": 106,
   "id": "37c423ed",
   "metadata": {},
   "outputs": [
    {
     "name": "stdout",
     "output_type": "stream",
     "text": [
      "2.5 3.5 4.5 5.5\n"
     ]
    }
   ],
   "source": [
    "print(' '.join(map(str, move_aver(q, k))))"
   ]
  },
  {
   "cell_type": "markdown",
   "id": "1d447f09",
   "metadata": {},
   "source": [
    "D. Две фишки"
   ]
  },
  {
   "cell_type": "code",
   "execution_count": 120,
   "id": "f96f1f42",
   "metadata": {},
   "outputs": [
    {
     "name": "stdout",
     "output_type": "stream",
     "text": [
      "8\n",
      "6 2 8 -3 1 1 6 94\n",
      "100\n",
      "6 94\n"
     ]
    }
   ],
   "source": [
    "from typing import List, Tuple, Optional\n",
    "def two_sum(arr: List[int], target_sum: int) -> Optional[Tuple[int, int]]:\n",
    "    for i in range(0, len(arr)):\n",
    "        for k in range(i+1, len(arr)):\n",
    "            if arr[i] + arr[k] == target_sum:\n",
    "                return arr[i], arr[k]\n",
    "\n",
    "def read_input() -> Tuple[List[int], int]:\n",
    "    n = int(input())\n",
    "    arr = list(map(int, input().strip().split()))\n",
    "    target_sum = int(input())\n",
    "    return arr, target_sum\n",
    "\n",
    "def print_result(result: Optional[Tuple[int, int]]) -> None:\n",
    "    if result is None:\n",
    "        print(None)\n",
    "    else:\n",
    "        print(\" \".join(map(str, result)))\n",
    "\n",
    "arr, target_sum = read_input()\n",
    "print_result(two_sum(arr, target_sum))"
   ]
  },
  {
   "cell_type": "markdown",
   "id": "91c7c834",
   "metadata": {},
   "source": [
    "E. Две фишки - 2"
   ]
  },
  {
   "cell_type": "code",
   "execution_count": 125,
   "id": "74c5f8bf",
   "metadata": {},
   "outputs": [
    {
     "name": "stdout",
     "output_type": "stream",
     "text": [
      "6\n",
      "-9 -7 -6 -1 -1 3\n",
      "2\n",
      "-1 3\n"
     ]
    }
   ],
   "source": [
    "from typing import List, Tuple, Optional\n",
    "\n",
    "def two_sum(arr: List[int], target_sum: int) -> Optional[Tuple[int, int]]:\n",
    "    arr.sort()\n",
    "    left = 0\n",
    "    right = len(arr)-1\n",
    "    while left < right:\n",
    "        if arr[left] + arr[right] == target_sum:\n",
    "            return arr[left], arr[right]\n",
    "        if arr[left] + arr[right] < target_sum:\n",
    "            left += 1\n",
    "        else: right -= 1        \n",
    "\n",
    "def read_input() -> Tuple[List[int], int]:\n",
    "    n = int(input())\n",
    "    arr = list(map(int, input().strip().split()))\n",
    "    target_sum = int(input())\n",
    "    return arr, target_sum\n",
    "\n",
    "def print_result(result: Optional[Tuple[int, int]]) -> None:\n",
    "    if result is None:\n",
    "        print(None)\n",
    "    else:\n",
    "        p rint(\" \".join(map(str, result)))\n",
    "\n",
    "arr, target_sum = read_input()\n",
    "print_result(two_sum(arr, target_sum))"
   ]
  },
  {
   "cell_type": "code",
   "execution_count": 137,
   "id": "294437f1",
   "metadata": {},
   "outputs": [],
   "source": [
    "import time"
   ]
  },
  {
   "cell_type": "code",
   "execution_count": 144,
   "id": "33a303a1",
   "metadata": {},
   "outputs": [],
   "source": [
    "def is_prime(n):\n",
    "    if n == 1:\n",
    "        return False\n",
    "    i = 2\n",
    "    while i < n:\n",
    "        if n % i == 0:\n",
    "            return False\n",
    "        i = i + 1\n",
    "    return True "
   ]
  },
  {
   "cell_type": "code",
   "execution_count": 145,
   "id": "1547bac9",
   "metadata": {},
   "outputs": [
    {
     "name": "stdout",
     "output_type": "stream",
     "text": [
      "Wall time: 0 ns\n"
     ]
    },
    {
     "data": {
      "text/plain": [
       "False"
      ]
     },
     "execution_count": 145,
     "metadata": {},
     "output_type": "execute_result"
    }
   ],
   "source": [
    "%time\n",
    "is_prime(6)"
   ]
  },
  {
   "cell_type": "code",
   "execution_count": 146,
   "id": "d50c390e",
   "metadata": {},
   "outputs": [],
   "source": [
    "def is_prime(n):\n",
    "    if n == 1:\n",
    "        return False\n",
    "    i = 2\n",
    "    while i * i <= n:\n",
    "        if n % i == 0:\n",
    "            return False\n",
    "        i = i + 1\n",
    "    return True"
   ]
  },
  {
   "cell_type": "code",
   "execution_count": 147,
   "id": "7f843540",
   "metadata": {},
   "outputs": [
    {
     "name": "stdout",
     "output_type": "stream",
     "text": [
      "Wall time: 0 ns\n"
     ]
    },
    {
     "data": {
      "text/plain": [
       "False"
      ]
     },
     "execution_count": 147,
     "metadata": {},
     "output_type": "execute_result"
    }
   ],
   "source": [
    "%time\n",
    "is_prime(6)"
   ]
  },
  {
   "cell_type": "code",
   "execution_count": 148,
   "id": "89fde7d9",
   "metadata": {},
   "outputs": [],
   "source": [
    "def get_smaller_primes(n):\n",
    "    smaller_primes = []\n",
    "    for num in range(2, n + 1):\n",
    "        if is_prime(num):\n",
    "            smaller_primes.append(num)\n",
    "    return smaller_primes"
   ]
  },
  {
   "cell_type": "code",
   "execution_count": 152,
   "id": "215a0dce",
   "metadata": {},
   "outputs": [],
   "source": [
    "def eratosthenes(n):\n",
    "    numbers = list(range(n + 1))\n",
    "    numbers[0] = numbers[1] = False\n",
    "    for num in range(2, n):\n",
    "        if numbers[num]:\n",
    "            for j in range(2 * num, n + 1, num):\n",
    "                numbers[j] = False\n",
    "    return numbers"
   ]
  },
  {
   "cell_type": "code",
   "execution_count": 153,
   "id": "a2142cf9",
   "metadata": {},
   "outputs": [
    {
     "data": {
      "text/plain": [
       "[False, False, 2, 3, False, 5, False, 7]"
      ]
     },
     "execution_count": 153,
     "metadata": {},
     "output_type": "execute_result"
    }
   ],
   "source": [
    "eratosthenes(7)"
   ]
  },
  {
   "cell_type": "markdown",
   "id": "81d86213",
   "metadata": {},
   "source": [
    "A. Значения функции"
   ]
  },
  {
   "cell_type": "code",
   "execution_count": 158,
   "id": "2d6bbd78",
   "metadata": {},
   "outputs": [
    {
     "name": "stdout",
     "output_type": "stream",
     "text": [
      "8 2 9 -10\n",
      "40\n"
     ]
    }
   ],
   "source": [
    "def evaluate_function(a: int, b: int, c: int, x: int) -> int:\n",
    "     return a*x**2 + b*x + c\n",
    "\n",
    "a, x, b, c = map(int, input().strip().split())\n",
    "print(evaluate_function(a, b, c, x))"
   ]
  },
  {
   "cell_type": "markdown",
   "id": "f1cf0ea2",
   "metadata": {},
   "source": [
    "B. Чётные и нечётные числа"
   ]
  },
  {
   "cell_type": "code",
   "execution_count": 178,
   "id": "6c6cc0cd",
   "metadata": {},
   "outputs": [
    {
     "name": "stdout",
     "output_type": "stream",
     "text": [
      "6 -2 0\n",
      "WIN\n"
     ]
    }
   ],
   "source": [
    "def check_parity(a: int, b: int, c: int) -> bool:\n",
    "    if sum([x%2==0 for x in [a, b, c]]) in (0, 3):\n",
    "        return True\n",
    "    else: return False\n",
    "        \n",
    "\n",
    "def print_result(result: bool) -> None:\n",
    "    if result:\n",
    "        print(\"WIN\")\n",
    "    else:\n",
    "        print(\"FAIL\")\n",
    "\n",
    "a, b, c = map(int, input().strip().split())\n",
    "print_result(check_parity(a, b, c))"
   ]
  },
  {
   "cell_type": "markdown",
   "id": "e5d249aa",
   "metadata": {},
   "source": [
    "C. Соседи"
   ]
  },
  {
   "cell_type": "code",
   "execution_count": 204,
   "id": "e9aa86be",
   "metadata": {},
   "outputs": [
    {
     "name": "stdout",
     "output_type": "stream",
     "text": [
      "4\n",
      "3\n",
      "1 2 3\n",
      "0 2 6\n",
      "7 4 1\n",
      "2 7 0\n",
      "0\n",
      "0\n",
      "0 2\n"
     ]
    }
   ],
   "source": [
    "from typing import List, Tuple\n",
    "\n",
    "def get_neighbours(matrix: List[List[int]], row: int, col: int) -> List[int]:\n",
    "    res = []\n",
    "    if col+1 < len(matrix[0]):\n",
    "        res.append(matrix[row][col+1])\n",
    "    if col-1 >= 0:\n",
    "        res.append(matrix[row][col-1])\n",
    "    if row+1 < len(matrix):\n",
    "        res.append(matrix[row+1][col])\n",
    "    if row-1 >= 0:\n",
    "        res.append(matrix[row-1][col])\n",
    "    res.sort()\n",
    "    return res\n",
    "\n",
    "\n",
    "def read_input() -> Tuple[List[List[int]], int, int]:\n",
    "    n = int(input())\n",
    "    m = int(input())\n",
    "    matrix = []\n",
    "    for i in range(n):\n",
    "        matrix.append(list(map(int, input().strip().split())))\n",
    "    row = int(input())\n",
    "    col = int(input())\n",
    "    return matrix, row, col\n",
    "\n",
    "matrix, row, col = read_input()\n",
    "print(\" \".join(map(str, get_neighbours(matrix, row, col))))"
   ]
  },
  {
   "cell_type": "code",
   "execution_count": null,
   "id": "d05d2a5d",
   "metadata": {},
   "outputs": [],
   "source": [
    "4\n",
    "3\n",
    "1 2 3\n",
    "0 2 6\n",
    "7 4 1\n",
    "2 7 0\n",
    "0\n",
    "0\n",
    "\n",
    "\n"
   ]
  },
  {
   "cell_type": "markdown",
   "id": "8efd1140",
   "metadata": {},
   "source": [
    "D. Хаотичность погоды"
   ]
  },
  {
   "cell_type": "code",
   "execution_count": 211,
   "id": "4f1104fb",
   "metadata": {},
   "outputs": [
    {
     "name": "stdout",
     "output_type": "stream",
     "text": [
      "5\n",
      "1 2 5 4 8\n",
      "2\n"
     ]
    }
   ],
   "source": [
    "from typing import List\n",
    "\n",
    "def get_weather_randomness(temperatures: List[int]) -> int:\n",
    "    l = len(temperatures)\n",
    "    cnt = 0\n",
    "    if len(temperatures) == 1:\n",
    "        return 1\n",
    "    if temperatures[0] > temperatures[1]:\n",
    "        cnt+=1\n",
    "    if temperatures[l-1] > temperatures[l-2]:\n",
    "        cnt+=1\n",
    "    for n in range(1, l-1):\n",
    "        if (\n",
    "            temperatures[n] > temperatures[n-1]\n",
    "            and temperatures[n] > temperatures[n+1]\n",
    "        ):\n",
    "            cnt+=1\n",
    "    return cnt  \n",
    "\n",
    "def read_input() -> List[int]:\n",
    "    n = int(input())\n",
    "    temperatures = list(map(int, input().strip().split()))\n",
    "    return temperatures\n",
    "\n",
    "temperatures = read_input()\n",
    "print(get_weather_randomness(temperatures))"
   ]
  },
  {
   "cell_type": "markdown",
   "id": "76258bdb",
   "metadata": {},
   "source": [
    "E. Самое длинное слово"
   ]
  },
  {
   "cell_type": "code",
   "execution_count": 234,
   "id": "19823a8c",
   "metadata": {},
   "outputs": [
    {
     "name": "stdout",
     "output_type": "stream",
     "text": [
      "21\n",
      "frog jumps from river\n",
      "jumps\n",
      "5\n"
     ]
    }
   ],
   "source": [
    "def get_longest_word(line: str) -> str:\n",
    "    dict_max = {x:len(x) for x in line.split()}\n",
    "    max_len = max(dict_max.values())\n",
    "    for k, v in dict_max.items():\n",
    "        if v == max_len:\n",
    "            return k\n",
    "\n",
    "def read_input() -> str:\n",
    "    _ = input()\n",
    "    line = input().strip()\n",
    "    return line\n",
    "\n",
    "def print_result(result: str) -> None:\n",
    "    print(result)\n",
    "    print(len(result))\n",
    "\n",
    "print_result(get_longest_word(read_input()))"
   ]
  },
  {
   "cell_type": "markdown",
   "id": "1146eff0",
   "metadata": {},
   "source": [
    "F. Палиндром"
   ]
  },
  {
   "cell_type": "code",
   "execution_count": 286,
   "id": "71267855",
   "metadata": {},
   "outputs": [
    {
     "name": "stdout",
     "output_type": "stream",
     "text": [
      "A man, a plan, a canal: Panama\n",
      "True\n"
     ]
    }
   ],
   "source": [
    "def is_palindrome(line: str) -> bool:\n",
    "    res = ''.join([x for x in line.lower() if x not in ('.', ',', ':', '!', '?',' ')])\n",
    "    return res == res[len(res)::-1]\n",
    "\n",
    "print(is_palindrome(input().strip()))"
   ]
  },
  {
   "cell_type": "markdown",
   "id": "8248209d",
   "metadata": {},
   "source": [
    "G. Работа из дома"
   ]
  },
  {
   "cell_type": "code",
   "execution_count": 347,
   "id": "c6729078",
   "metadata": {},
   "outputs": [
    {
     "name": "stdout",
     "output_type": "stream",
     "text": [
      "14\n",
      "1110\n"
     ]
    }
   ],
   "source": [
    "def to_binary(number: int) -> str:\n",
    "    res = ''\n",
    "    while number != 1:\n",
    "        res+=str(number % 2)\n",
    "        number = number // 2\n",
    "    res += str(1)\n",
    "    return res[len(res)::-1]\n",
    "\n",
    "def read_input() -> int:\n",
    "    return int(input().strip())\n",
    "\n",
    "print(to_binary(read_input()))"
   ]
  },
  {
   "cell_type": "markdown",
   "id": "106adfb7",
   "metadata": {},
   "source": [
    "H. Двоичная система"
   ]
  },
  {
   "cell_type": "code",
   "execution_count": 532,
   "id": "ef2fc913",
   "metadata": {},
   "outputs": [
    {
     "name": "stdout",
     "output_type": "stream",
     "text": [
      "11001\n",
      "10111100\n",
      "11010101\n"
     ]
    }
   ],
   "source": [
    "from typing import Tuple\n",
    "\n",
    "def get_sum(first_number: str, second_number: str) -> str:\n",
    "    l1 = [*map(int, first_number)]\n",
    "    l2 = [*map(int, second_number)]\n",
    "    max_len = max(len(l1), len(l2))\n",
    "    l1 = [0] * (max_len - len(l1)) + l1\n",
    "    l2 = [0] * (max_len - len(l2)) + l2\n",
    "    result = []\n",
    "\n",
    "    tmp = 0\n",
    "    for x,y in list(zip(l1, l2))[::-1]:\n",
    "        z = x + y + tmp\n",
    "        if z == 3:\n",
    "            result.append(1)\n",
    "            tmp = 1\n",
    "        elif z == 2:\n",
    "            result.append(0)\n",
    "            tmp = 1\n",
    "        else: \n",
    "            result.append(z)\n",
    "            tmp = 0\n",
    "    if tmp == 1:\n",
    "        result.append(tmp)\n",
    "    return ''.join(map(str, result[::-1]))\n",
    "\n",
    "def read_input() -> Tuple[str, str]:\n",
    "    first_number = input().strip()\n",
    "    second_number = input().strip()\n",
    "    return first_number, second_number\n",
    "\n",
    "first_number, second_number = read_input()\n",
    "print(get_sum(first_number, second_number))"
   ]
  },
  {
   "cell_type": "markdown",
   "id": "2002e15d",
   "metadata": {},
   "source": [
    "I. Степень четырёх"
   ]
  },
  {
   "cell_type": "code",
   "execution_count": 568,
   "id": "c6357af3",
   "metadata": {},
   "outputs": [
    {
     "name": "stdout",
     "output_type": "stream",
     "text": [
      "1\n",
      "True\n"
     ]
    }
   ],
   "source": [
    "def is_power_of_four(number: int) -> bool:\n",
    "    if number == 1:\n",
    "        return True\n",
    "    cnt = 0\n",
    "    while number != 1:\n",
    "        if number % 4 != 0:\n",
    "            cnt = 0\n",
    "            break\n",
    "        number = number / 4\n",
    "        cnt += 1\n",
    "    return bool(cnt)\n",
    "\n",
    "print(is_power_of_four(int(input())))"
   ]
  },
  {
   "cell_type": "markdown",
   "id": "f7bad315",
   "metadata": {},
   "source": [
    "J. Факторизация"
   ]
  },
  {
   "cell_type": "code",
   "execution_count": 30,
   "id": "6f4f5af1",
   "metadata": {},
   "outputs": [
    {
     "name": "stdout",
     "output_type": "stream",
     "text": [
      "669392\n",
      "2 2 2 2 17 23 107\n"
     ]
    }
   ],
   "source": [
    "from typing import List\n",
    "\n",
    "def factorize(number: int) -> List[int]:\n",
    "    res = []\n",
    "    i = 2\n",
    "    while i * i <= number:\n",
    "        while number % i == 0:\n",
    "            res.append(i)\n",
    "            number = int(number/i)\n",
    "        i+=1\n",
    "    if number > 1:\n",
    "        res.append(number)\n",
    "    res.sort()\n",
    "    return res\n",
    "\n",
    "result = factorize(int(input()))\n",
    "print(\" \".join(map(str, result)))"
   ]
  },
  {
   "cell_type": "markdown",
   "id": "8aed239c",
   "metadata": {},
   "source": [
    "K. Списочная форма"
   ]
  },
  {
   "cell_type": "code",
   "execution_count": 57,
   "id": "c8df931f",
   "metadata": {},
   "outputs": [
    {
     "name": "stdout",
     "output_type": "stream",
     "text": [
      "2\n",
      "9 5\n",
      "17\n",
      "1 1 2\n"
     ]
    }
   ],
   "source": [
    "from typing import List, Tuple\n",
    "\n",
    "def get_sum(number_list: List[int], k: int) -> List[int]:\n",
    "    return [x for x in str(int(''.join(map(str, number_list))) + k)]\n",
    "\n",
    "def read_input() -> Tuple[List[int], int]:\n",
    "    n = int(input())\n",
    "    number_list = list(map(int, input().strip().split()))\n",
    "    k = int(input())\n",
    "    return number_list, k\n",
    "\n",
    "number_list, k = read_input()\n",
    "print(\" \".join(map(str, get_sum(number_list, k))))"
   ]
  },
  {
   "cell_type": "markdown",
   "id": "74a58394",
   "metadata": {},
   "source": [
    "L. Лишняя буква"
   ]
  },
  {
   "cell_type": "code",
   "execution_count": 130,
   "id": "8cb677d4",
   "metadata": {},
   "outputs": [
    {
     "name": "stdout",
     "output_type": "stream",
     "text": [
      "hxtyolnbsybtmlqnjgjlujavfavexbdlbdwmfsrnkwcwlbgiztbodrcfinxbzywgzgdwwooealrodmyqqelyvykqqgcaohrefojwaqmgosqvniavstmcndccngsbjlsocivud\n",
      "dyzalocnqaiaqidxlxmfeavrgydyfsnfokwmwneloabdmeltregjlokcwrhoysolazyjgsxvssciqugybvbvqcudmbchvqotljnbomjvwdscqzcwablnwbtwrndfbgonjiggqt\n",
      "a\n"
     ]
    }
   ],
   "source": [
    "from typing import Tuple\n",
    "\n",
    "def get_excessive_letter(shorter: str, longer: str) -> str:\n",
    "    d1 = {x:shorter.count(x) for x in shorter}\n",
    "    d2 = {x:longer.count(x) for x in longer}\n",
    "    res = {}\n",
    "    for k, v in d2.items():\n",
    "        res[k] = v - d1.get(k, 0)\n",
    "    \n",
    "    for k, v in res.items():\n",
    "        if v > 0:\n",
    "            return k\n",
    "\n",
    "def read_input() -> Tuple[str, str]:\n",
    "    shorter = input().strip()\n",
    "    longer = input().strip()\n",
    "    return shorter, longer\n",
    "\n",
    "shorter, longer = read_input()\n",
    "print(get_excessive_letter(shorter, longer))"
   ]
  },
  {
   "cell_type": "markdown",
   "id": "b312aacf",
   "metadata": {},
   "source": [
    "A. Ближайший ноль"
   ]
  },
  {
   "cell_type": "code",
   "execution_count": 330,
   "id": "3557831d",
   "metadata": {},
   "outputs": [
    {
     "name": "stdout",
     "output_type": "stream",
     "text": [
      "5\n",
      "0 1 2 3 0\n",
      "1 2 1\n"
     ]
    }
   ],
   "source": [
    "# v.1\n",
    "from typing import List, Tuple\n",
    "\n",
    "def read_input() -> List[int]:\n",
    "    n = int(input().strip())\n",
    "    number_list = list(map(int, input().strip().split()))\n",
    "    return number_list\n",
    "\n",
    "def nearest_zero(number_list: List[int]) -> List[int]:\n",
    "    zero_dict = {}\n",
    "    for k, v in {x:y for x, y in enumerate(number_list) if y == 0}.items():\n",
    "        result = []\n",
    "        for m, _ in {x:y for x, y in enumerate(number_list) if y != 0}.items():\n",
    "#             if n == 0:\n",
    "#                 result.append(0)\n",
    "#             else:\n",
    "            result.append(abs(m-k))\n",
    "        zero_dict[k] = result\n",
    "    return list(map(min, list(zip(*zero_dict.values()))))\n",
    "\n",
    "def print_result(res: List[int]) -> None:\n",
    "    print(' '.join(map(str, res)))\n",
    "\n",
    "print_result(nearest_zero(read_input()))"
   ]
  },
  {
   "cell_type": "code",
   "execution_count": 254,
   "id": "c6002fe1",
   "metadata": {},
   "outputs": [
    {
     "name": "stdout",
     "output_type": "stream",
     "text": [
      "6\n",
      "0 7 9 4 8 20\n",
      "0 1 2 3 4 5\n"
     ]
    }
   ],
   "source": [
    "# v.2\n",
    "from typing import List, Tuple\n",
    "\n",
    "def read_input() -> List[int]:\n",
    "    n = int(input().strip())\n",
    "    number_list = list(map(int, input().strip().split()))\n",
    "    return number_list\n",
    "\n",
    "def nearest_zero(number_list: List[int]) -> List[int]:\n",
    "    zero_list = []\n",
    "    for n in range(0, len(number_list)):\n",
    "        if number_list[n] == 0:\n",
    "            zero_list.append(number_list.index(0, n))\n",
    "    zero_dict = {}\n",
    "    for n in zero_list:\n",
    "        result = []\n",
    "        for k in range(0, len(number_list)):\n",
    "            if number_list[k] == 0:\n",
    "                result.append(0)\n",
    "            else: result.append(abs(n-number_list.index(number_list[k], k)))\n",
    "        zero_dict[n] = result\n",
    "    return list(map(min, list(zip(*zero_dict.values()))))\n",
    "\n",
    "def print_result(res: List[int]) -> None:\n",
    "    print(' '.join(map(str, res)))\n",
    "\n",
    "print_result(nearest_zero(read_input()))"
   ]
  },
  {
   "cell_type": "code",
   "execution_count": 268,
   "id": "ba5276d6",
   "metadata": {},
   "outputs": [
    {
     "name": "stdout",
     "output_type": "stream",
     "text": [
      "6\n",
      "0 7 9 4 8 20\n",
      "0 1 2 3 4 5\n"
     ]
    }
   ],
   "source": [
    "# v.3\n",
    "from typing import List, Tuple\n",
    "\n",
    "def read_input() -> List[int]:\n",
    "    n = int(input().strip())\n",
    "    number_list = list(map(int, input().strip().split()))\n",
    "    return number_list\n",
    "\n",
    "def nearest_zero(number_list: List[int]) -> List[int]:\n",
    "    zero_list = []\n",
    "    for n in range(0, len(number_list)):\n",
    "        if number_list[n] == 0:\n",
    "            zero_list.append(number_list.index(0, n))\n",
    "    result = []\n",
    "    for k in range(0, len(number_list)):\n",
    "        if number_list[k] == 0:\n",
    "            result.append(0)\n",
    "        else: result.append(min([abs(x - number_list.index(number_list[k], k)) for x in zero_list]))\n",
    "    return result\n",
    "\n",
    "def print_result(res: List[int]) -> None:\n",
    "    print(' '.join(map(str, res)))\n",
    "\n",
    "print_result(nearest_zero(read_input()))"
   ]
  },
  {
   "cell_type": "code",
   "execution_count": 389,
   "id": "36da4e1d",
   "metadata": {},
   "outputs": [
    {
     "name": "stdout",
     "output_type": "stream",
     "text": [
      "6\n",
      "0 7 9 4 8 20\n",
      "0 1 2 3 4 5\n"
     ]
    }
   ],
   "source": [
    "# v.4\n",
    "from typing import List, Tuple\n",
    "\n",
    "def read_input() -> List[int]:\n",
    "    n = int(input().strip())\n",
    "    number_list = list(map(int, input().strip().split()))\n",
    "    return number_list\n",
    "\n",
    "def nearest_zero(number_list: List[int]) -> List[int]:\n",
    "    result_dict = {}\n",
    "    zero = None\n",
    "    for n, l in enumerate([number_list, number_list[::-1]]):\n",
    "        result = []\n",
    "        for k, v in enumerate(l):\n",
    "            if v == 0:\n",
    "                result.append(0)\n",
    "                zero = k\n",
    "            elif zero != None:\n",
    "                result.append(k-zero)\n",
    "            else: result.append(len(l))\n",
    "            result_dict[n] = result\n",
    "        zero = None\n",
    "    result_dict[1] = result_dict[1][::-1]\n",
    "    return list(map(min, list(zip(*result_dict.values()))))\n",
    "\n",
    "def print_result(res: List[int]) -> None:\n",
    "    print(' '.join(map(str, res)))\n",
    "\n",
    "print_result(nearest_zero(read_input()))"
   ]
  },
  {
   "cell_type": "markdown",
   "id": "6eb26512",
   "metadata": {},
   "source": [
    "B. Ловкость рук"
   ]
  },
  {
   "cell_type": "markdown",
   "id": "93d71856",
   "metadata": {},
   "source": [
    "3\n",
    "\n",
    "1231\n",
    "\n",
    "2..2\n",
    "\n",
    "2..2\n",
    "\n",
    "2..2\n"
   ]
  },
  {
   "cell_type": "code",
   "execution_count": 465,
   "id": "b23ec62c",
   "metadata": {},
   "outputs": [
    {
     "name": "stdout",
     "output_type": "stream",
     "text": [
      "1\n",
      "1999\n",
      "5436\n",
      "4368\n",
      "1712\n",
      "7\n"
     ]
    }
   ],
   "source": [
    "# v.1\n",
    "from typing import List, Tuple\n",
    "\n",
    "def read_input() -> List[int]:\n",
    "    n = int(input().strip())\n",
    "    number_list = []\n",
    "    for x in range(4):\n",
    "        number_list.append(input().strip())\n",
    "    return n, number_list\n",
    "\n",
    "def juggle(n: int, number_list: List[int]) -> int:\n",
    "    list_clear = [int(x) for x in ''.join(number_list) if x not in '.']\n",
    "    set_number = list(map(int, set([x for x in ''.join(number_list) if x not in '.'])))\n",
    "    set_number.sort()\n",
    "    res_dict = {}\n",
    "    n = n * 2\n",
    "    point = 0\n",
    "    for x in set_number:\n",
    "        if list_clear.count(x) <= n:\n",
    "            point += 1\n",
    "    return point\n",
    "\n",
    "n, number_list = read_input()\n",
    "print(juggle(n, number_list))"
   ]
  },
  {
   "cell_type": "code",
   "execution_count": null,
   "id": "de279a48",
   "metadata": {},
   "outputs": [],
   "source": []
  },
  {
   "cell_type": "code",
   "execution_count": null,
   "id": "5b35880f",
   "metadata": {},
   "outputs": [],
   "source": []
  },
  {
   "cell_type": "code",
   "execution_count": null,
   "id": "1f3946e0",
   "metadata": {},
   "outputs": [],
   "source": []
  },
  {
   "cell_type": "code",
   "execution_count": null,
   "id": "1b766654",
   "metadata": {},
   "outputs": [],
   "source": []
  },
  {
   "cell_type": "code",
   "execution_count": null,
   "id": "81c7e0a8",
   "metadata": {},
   "outputs": [],
   "source": []
  },
  {
   "cell_type": "code",
   "execution_count": null,
   "id": "f3fa57e4",
   "metadata": {},
   "outputs": [],
   "source": []
  },
  {
   "cell_type": "code",
   "execution_count": null,
   "id": "27ff19db",
   "metadata": {},
   "outputs": [],
   "source": []
  },
  {
   "cell_type": "code",
   "execution_count": null,
   "id": "a50ece24",
   "metadata": {},
   "outputs": [],
   "source": []
  },
  {
   "cell_type": "code",
   "execution_count": null,
   "id": "dbb15b74",
   "metadata": {},
   "outputs": [],
   "source": []
  },
  {
   "cell_type": "code",
   "execution_count": null,
   "id": "81c17960",
   "metadata": {},
   "outputs": [],
   "source": []
  }
 ],
 "metadata": {
  "kernelspec": {
   "display_name": "Python 3 (ipykernel)",
   "language": "python",
   "name": "python3"
  },
  "language_info": {
   "codemirror_mode": {
    "name": "ipython",
    "version": 3
   },
   "file_extension": ".py",
   "mimetype": "text/x-python",
   "name": "python",
   "nbconvert_exporter": "python",
   "pygments_lexer": "ipython3",
   "version": "3.9.7"
  }
 },
 "nbformat": 4,
 "nbformat_minor": 5
}
